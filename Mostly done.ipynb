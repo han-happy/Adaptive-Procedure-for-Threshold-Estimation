{
 "cells": [
  {
   "attachments": {},
   "cell_type": "markdown",
   "id": "20c62629",
   "metadata": {},
   "source": [
    "Names: Binbin Xu, Hanh (Happy) Han, Quiana Ma\n",
    "\n",
    "Last saved: June 7, 2023 at 3:55 PM"
   ]
  },
  {
   "cell_type": "code",
   "execution_count": 4,
   "id": "a24a861c-8cf7-448e-8173-b2bb2d42205f",
   "metadata": {},
   "outputs": [],
   "source": [
    "import numpy as np\n",
    "from numpy import random \n",
    "import pandas as pd\n",
    "import simpleaudio as sa\n",
    "from matplotlib import pyplot as plt"
   ]
  },
  {
   "attachments": {},
   "cell_type": "markdown",
   "id": "1a4aae72",
   "metadata": {},
   "source": [
    "Functions for tone and sounds"
   ]
  },
  {
   "cell_type": "code",
   "execution_count": 5,
   "id": "0c3667ee-0e39-4512-8932-f05fff943de3",
   "metadata": {},
   "outputs": [],
   "source": [
    "def make_tone(f,duration,sr = 44100,ramp = 200):\n",
    "    time_vec = np.linspace(0, duration, int(duration*sr)) # The number of samples is the length of time X sampling rate.\n",
    "    tone = np.sin(f * time_vec  * 2 * np.pi)\n",
    "    risingramp = np.linspace(0,1,ramp)\n",
    "    descendingramp = np.linspace(1,0,ramp)\n",
    "    tone[0:ramp] = tone[0:ramp]*risingramp\n",
    "    tone[-ramp:] = tone[-ramp:]*descendingramp\n",
    "    return tone"
   ]
  },
  {
   "cell_type": "code",
   "execution_count": 6,
   "id": "47789446-c8da-4760-aa7a-445f6a2a3b71",
   "metadata": {},
   "outputs": [],
   "source": [
    "def play_sound(tone,volume = 0.5,sr = 44100):\n",
    "    tone  = tone*32768 / np.max(np.abs(tone)) # scale to the range of the sound card.  \n",
    "    tone = volume*tone # FOR SAFETY.  PLEASE LIMIT THE MAXIMIM VOLUME! \n",
    "    tone  = tone.astype(np.int16) # convert to 16 bit integers. \n",
    "    play_obj = sa.play_buffer(tone , 1, 2, sr) # i created an object here. \n",
    "    play_obj.wait_done() # tells python to wait for the sound to finish before going any further.  "
   ]
  },
  {
   "attachments": {},
   "cell_type": "markdown",
   "id": "c22e4ae2",
   "metadata": {},
   "source": [
    "Variables"
   ]
  },
  {
   "cell_type": "code",
   "execution_count": 4,
   "id": "0cc41e4c",
   "metadata": {},
   "outputs": [],
   "source": [
    "#rng = random.default_rng(seed = 15) #change to subject id? (seed needs to be integer)"
   ]
  },
  {
   "cell_type": "code",
   "execution_count": 49,
   "id": "3b9bfb74-86dd-431d-868f-5eb29a9a92b2",
   "metadata": {},
   "outputs": [],
   "source": [
    "subjid = '1' #your the first subject! #input so experimenter types in subject id\n",
    "ncond = 2 \n",
    "ntrials = 50\n",
    "fA = 1760 #might change to input for 440, 880, and 1760\n",
    "df = 0.1*fA\n",
    "fB = fA + df\n",
    "duration = 0.5 \n",
    "volume = 0.5\n",
    "silent_interval = 0.25 # silent interval between the two notes\n",
    "sr = 44100\n",
    "filename = 'Experiment Data' + subjid + '.csv' #if you prefer a csv file "
   ]
  },
  {
   "cell_type": "code",
   "execution_count": 50,
   "id": "533c01f3-77fb-4391-88f0-584d854f986d",
   "metadata": {},
   "outputs": [],
   "source": [
    "rng = random.default_rng(seed = int(subjid)) #change to subject id? (seed needs to be integer)"
   ]
  },
  {
   "attachments": {},
   "cell_type": "markdown",
   "id": "67bf005a",
   "metadata": {},
   "source": [
    "Play sounds and silences"
   ]
  },
  {
   "cell_type": "code",
   "execution_count": 51,
   "id": "3318e8aa-5e19-4dbe-ba23-de515bfab163",
   "metadata": {},
   "outputs": [],
   "source": [
    "A_note = make_tone(fA,duration)\n",
    "B_note = make_tone(fB,duration)\n",
    "silence = np.zeros(int(silent_interval*sr))\n",
    "#play_sound(A_note,volume = volume)\n",
    "#play_sound(B_note,volume = volume)"
   ]
  },
  {
   "attachments": {},
   "cell_type": "markdown",
   "id": "73430e31",
   "metadata": {},
   "source": [
    "Creating Arrays for Table Columns\n"
   ]
  },
  {
   "cell_type": "code",
   "execution_count": 52,
   "id": "2738c78c-ac7d-4696-8000-d78b42a22c8f",
   "metadata": {},
   "outputs": [],
   "source": [
    "correct_response = np.zeros(ntrials,dtype = 'int') #empty array to hold the trial labels\n",
    "trial_response = np.array(np.zeros(ntrials),dtype = 'int') #empty array to hold the responses of trype string\n",
    "trial_result = np.array(np.zeros(ntrials),dtype = 'str')\n",
    "difference = np.array(np.zeros(ntrials),dtype = 'str')\n"
   ]
  },
  {
   "attachments": {},
   "cell_type": "markdown",
   "id": "08762248",
   "metadata": {},
   "source": [
    "Running the **actual** Experiment with for loop"
   ]
  },
  {
   "cell_type": "code",
   "execution_count": 53,
   "id": "ef3d9056-1371-4a99-b743-0ab33e50d371",
   "metadata": {},
   "outputs": [
    {
     "name": "stdout",
     "output_type": "stream",
     "text": [
      "2\n",
      "1\n",
      "1\n",
      "1\n",
      "2\n",
      "2\n",
      "1\n",
      "1\n",
      "2\n",
      "2\n",
      "1\n",
      "2\n",
      "2\n",
      "1\n",
      "1\n",
      "2\n",
      "1\n",
      "1\n",
      "2\n",
      "2\n",
      "1\n",
      "1\n",
      "1\n",
      "1\n",
      "1\n",
      "1\n",
      "1\n",
      "1\n",
      "1\n",
      "Done!\n"
     ]
    },
    {
     "data": {
      "text/plain": [
       "2"
      ]
     },
     "execution_count": 53,
     "metadata": {},
     "output_type": "execute_result"
    }
   ],
   "source": [
    "total_error = 0\n",
    "consecutive_correct = 0\n",
    "\n",
    "\n",
    "condition_order = rng.integers(0,2,ntrials)\n",
    "for j in range(ntrials):  \n",
    "    #is response 1 or 2 or invalid\n",
    "    if condition_order[j] == 0: \n",
    "        stimulus = np.concatenate((A_note,silence,B_note))\n",
    "        play_sound(stimulus,volume=volume)\n",
    "        correct_response[j] = 2\n",
    "    else:\n",
    "        stimulus = np.concatenate((B_note,silence,A_note))\n",
    "        play_sound(stimulus,volume=volume)\n",
    "        correct_response[j] = 1\n",
    "    response_check = False \n",
    "    while response_check == False: \n",
    "        response = input('Is the first or 2nd note higher') #Get a keyboard input\n",
    "        if (response =='1') | (response == '2'): #check if its an a or b \n",
    "            response_check = True #if it is update response_check to true \n",
    "            print(response) # print the response \n",
    "            trial_response[j] = response # the jth trial response is response\n",
    "        else:\n",
    "            print('Invalid Response Try Again')\n",
    "    #is subject response = correct response\n",
    "    if trial_response[j] == correct_response[j]:\n",
    "        consecutive_correct += 1\n",
    "        trial_result[j] = 'correct'\n",
    "        difference[j] = df\n",
    "    else:\n",
    "        total_error += 1\n",
    "        consecutive_correct = 0\n",
    "        difference[j] = df\n",
    "        df*=np.sqrt(2) #this becomes larger since it was a wrong answer\n",
    "        fB = fA + df\n",
    "        trial_result[j] = 'wrong'\n",
    "    if consecutive_correct == 2:\n",
    "        df/=np.sqrt(2)\n",
    "        fB = fA + df\n",
    "        consecutive_correct = 0     \n",
    "    if total_error>3:\n",
    "        break #break --> force end for loop\n",
    "    B_note = make_tone(fB,duration)\n",
    "    \n",
    "\n",
    "print('Done!')\n",
    "2"
   ]
  },
  {
   "attachments": {},
   "cell_type": "markdown",
   "id": "99047075",
   "metadata": {},
   "source": [
    "TRAINING EXPERIMENT"
   ]
  },
  {
   "attachments": {},
   "cell_type": "markdown",
   "id": "773d569e",
   "metadata": {},
   "source": [
    "variables"
   ]
  },
  {
   "cell_type": "code",
   "execution_count": 35,
   "id": "8474806c",
   "metadata": {},
   "outputs": [],
   "source": [
    "subjid = '1' #your the first subject! #input so experimenter types in subject id\n",
    "ncond = 2 \n",
    "ntrials = 5\n",
    "fA = 1760 #might change to input for 440, 880, and 1760\n",
    "df = 0.1*fA\n",
    "fB = fA + df\n",
    "duration = 0.5 \n",
    "volume = 0.5\n",
    "silent_interval = 0.25 # silent interval between the two notes\n",
    "sr = 44100\n",
    "filename = 'training' + str(fA) + subjid + '.csv' #if you prefer a csv file \n",
    "#filename = 'Experiment Data' + subjid + '.xlsx' # if you prefer an excel file "
   ]
  },
  {
   "cell_type": "code",
   "execution_count": 36,
   "id": "4fada30d",
   "metadata": {},
   "outputs": [],
   "source": [
    "rng = random.default_rng(seed = int(subjid)) #change to subject id? (seed needs to be integer)"
   ]
  },
  {
   "cell_type": "code",
   "execution_count": 37,
   "id": "2379fb0f",
   "metadata": {},
   "outputs": [],
   "source": [
    "A_note = make_tone(fA,duration)\n",
    "B_note = make_tone(fB,duration)\n",
    "silence = np.zeros(int(silent_interval*sr))\n",
    "#play_sound(A_note,volume = volume)\n",
    "#play_sound(B_note,volume = volume)"
   ]
  },
  {
   "cell_type": "code",
   "execution_count": 38,
   "id": "2f224eb6",
   "metadata": {},
   "outputs": [],
   "source": [
    "correct_response = np.zeros(ntrials,dtype = 'int') #empty array to hold the trial labels\n",
    "trial_response = np.array(np.zeros(ntrials),dtype = 'int') #empty array to hold the responses of trype string\n",
    "trial_result = np.array(np.zeros(ntrials),dtype = 'str')\n",
    "difference = np.array(np.zeros(ntrials),dtype = 'str')\n"
   ]
  },
  {
   "attachments": {},
   "cell_type": "markdown",
   "id": "63095e40",
   "metadata": {},
   "source": [
    "running training trial"
   ]
  },
  {
   "cell_type": "code",
   "execution_count": 39,
   "id": "b28c93e9",
   "metadata": {},
   "outputs": [
    {
     "name": "stdout",
     "output_type": "stream",
     "text": [
      "2\n",
      "1\n",
      "1\n",
      "1\n",
      "2\n",
      "Done!\n"
     ]
    }
   ],
   "source": [
    "condition_order = rng.integers(0,2,ntrials)\n",
    "for j in range(5):  #loop over trials, index is j\n",
    "    #is response 1 or 2 or invalid\n",
    "    if condition_order[j] == 0: #check the trial type for jth trial\n",
    "        stimulus = np.concatenate((A_note,silence,B_note))\n",
    "        play_sound(stimulus,volume=volume)\n",
    "        correct_response[j] = 2\n",
    "    else:\n",
    "        stimulus = np.concatenate((B_note,silence,A_note))\n",
    "        play_sound(stimulus,volume=volume)\n",
    "        correct_response[j] = 1\n",
    "    response_check = False #I set the response_check to false.  I will only change response_check if i get a valid response \n",
    "    while response_check == False: # This while loop runs until I get a valid response \n",
    "        response = input('Is the first or 2nd note higher') #Get a keyboard input\n",
    "        if (response =='1') | (response == '2'): #check if its an a or b \n",
    "            response_check = True #if it is update response_check to true \n",
    "            print(response) # print the response \n",
    "            trial_response[j] = response # the jth trial response is response\n",
    "        else:\n",
    "            print('Invalid Response Try Again')\n",
    "    if trial_response[j] == correct_response[j]:\n",
    "            trial_result[j] = 'correct'\n",
    "            difference[j] = df\n",
    "    else:\n",
    "        trial_result[j] = 'wrong'\n",
    "        difference[j] = df\n",
    "\n",
    "print('Done!')"
   ]
  },
  {
   "cell_type": "code",
   "execution_count": 54,
   "id": "5116a5a9",
   "metadata": {},
   "outputs": [],
   "source": [
    "data = pd.DataFrame(columns = ['Condition','Response','Correct_Response','Result']) #create an empty data frame with three columns with column labels given\n",
    "data['Condition'] = condition_order #place trial_order in the 'Condition' column\n",
    "data['note_difference'] = difference\n",
    "data['Response'] = trial_response #place trial_response in the 'Response' column\n",
    "data['Correct_Response'] = correct_response\n",
    "data['Result'] = trial_result"
   ]
  },
  {
   "cell_type": "code",
   "execution_count": 55,
   "id": "841acd03",
   "metadata": {},
   "outputs": [],
   "source": [
    "data.to_csv(filename) #write it out to a csv file "
   ]
  },
  {
   "cell_type": "code",
   "execution_count": null,
   "id": "630a5cb8",
   "metadata": {},
   "outputs": [],
   "source": []
  },
  {
   "cell_type": "code",
   "execution_count": 15,
   "id": "6edd2131",
   "metadata": {},
   "outputs": [
    {
     "name": "stdout",
     "output_type": "stream",
     "text": [
      "Invalid Response Try Again\n",
      "Invalid Response Try Again\n",
      "Invalid Response Try Again\n",
      "Invalid Response Try Again\n",
      "Invalid Response Try Again\n",
      "Invalid Response Try Again\n",
      "Invalid Response Try Again\n",
      "Invalid Response Try Again\n",
      "Invalid Response Try Again\n",
      "Invalid Response Try Again\n",
      "Invalid Response Try Again\n",
      "Invalid Response Try Again\n",
      "Invalid Response Try Again\n",
      "Invalid Response Try Again\n",
      "1\n",
      "1\n",
      "1\n",
      "1\n",
      "1\n",
      "Done!\n"
     ]
    }
   ],
   "source": [
    "condition_order = rng.integers(0,2,ntrials)\n",
    "\n",
    "for j in range(ntrials):  #loop over trials, index is j\n",
    "    #is response 1 or 2 or invalid\n",
    "    if condition_order[j] == 0: #check the trial type for jth trial\n",
    "        stimulus = np.concatenate((A_note,silence,B_note))\n",
    "        play_sound(stimulus,volume=volume)\n",
    "        correct_response[j] = 2\n",
    "    else: #if it generates 1\n",
    "        stimulus = np.concatenate((B_note,silence,A_note))\n",
    "        play_sound(stimulus,volume=volume)\n",
    "        correct_response[j] = 1\n",
    "    response_check = False #I set the response_check to false.  I will only change response_check if i get a valid response \n",
    "    while response_check == False: # This while loop runs until I get a valid response \n",
    "        response = input('Is the first or 2nd note higher') #Get a keyboard input\n",
    "        if (response =='1') | (response == '2'): #check if its an a or b \n",
    "            response_check = True #if it is update response_check to true \n",
    "            print(response) # print the response \n",
    "            trial_response[j] = response # the jth trial response is response\n",
    "        else:\n",
    "            print('Invalid Response Try Again')\n",
    "    if trial_response[j] == correct_response[j]:\n",
    "            trial_result[j] = 'correct'\n",
    "            difference[j] = df\n",
    "    else:\n",
    "        trial_result[j] = 'wrong'\n",
    "        difference[j] = df\n",
    "\n",
    "print('Done!')"
   ]
  },
  {
   "cell_type": "code",
   "execution_count": null,
   "id": "8c59e250-bd50-4fa2-b2f8-f79671c3c58d",
   "metadata": {},
   "outputs": [],
   "source": []
  },
  {
   "attachments": {},
   "cell_type": "markdown",
   "id": "d10960b1",
   "metadata": {},
   "source": [
    "Putting all the data into a table"
   ]
  },
  {
   "cell_type": "code",
   "execution_count": 16,
   "id": "a1f406a3-a25f-4dca-8995-a6768a7814be",
   "metadata": {},
   "outputs": [
    {
     "ename": "ValueError",
     "evalue": "Length of values (50) does not match length of index (5)",
     "output_type": "error",
     "traceback": [
      "\u001b[1;31m---------------------------------------------------------------------------\u001b[0m",
      "\u001b[1;31mValueError\u001b[0m                                Traceback (most recent call last)",
      "Cell \u001b[1;32mIn[16], line 3\u001b[0m\n\u001b[0;32m      1\u001b[0m data \u001b[39m=\u001b[39m pd\u001b[39m.\u001b[39mDataFrame(columns \u001b[39m=\u001b[39m [\u001b[39m'\u001b[39m\u001b[39mCondition\u001b[39m\u001b[39m'\u001b[39m,\u001b[39m'\u001b[39m\u001b[39mResponse\u001b[39m\u001b[39m'\u001b[39m,\u001b[39m'\u001b[39m\u001b[39mCorrect_Response\u001b[39m\u001b[39m'\u001b[39m,\u001b[39m'\u001b[39m\u001b[39mResult\u001b[39m\u001b[39m'\u001b[39m]) \u001b[39m#create an empty data frame with three columns with column labels given\u001b[39;00m\n\u001b[0;32m      2\u001b[0m data[\u001b[39m'\u001b[39m\u001b[39mCondition\u001b[39m\u001b[39m'\u001b[39m] \u001b[39m=\u001b[39m condition_order \u001b[39m#place condition_order in the 'Condition' column\u001b[39;00m\n\u001b[1;32m----> 3\u001b[0m data[\u001b[39m'\u001b[39m\u001b[39mnote_difference\u001b[39m\u001b[39m'\u001b[39m] \u001b[39m=\u001b[39m difference\n\u001b[0;32m      4\u001b[0m data[\u001b[39m'\u001b[39m\u001b[39mResponse\u001b[39m\u001b[39m'\u001b[39m] \u001b[39m=\u001b[39m trial_response \u001b[39m#place trial_response in the 'Response' column\u001b[39;00m\n\u001b[0;32m      5\u001b[0m data[\u001b[39m'\u001b[39m\u001b[39mCorrect_Response\u001b[39m\u001b[39m'\u001b[39m] \u001b[39m=\u001b[39m correct_response\n",
      "File \u001b[1;32mc:\\Users\\anony\\Anaconda\\lib\\site-packages\\pandas\\core\\frame.py:3980\u001b[0m, in \u001b[0;36mDataFrame.__setitem__\u001b[1;34m(self, key, value)\u001b[0m\n\u001b[0;32m   3977\u001b[0m     \u001b[39mself\u001b[39m\u001b[39m.\u001b[39m_setitem_array([key], value)\n\u001b[0;32m   3978\u001b[0m \u001b[39melse\u001b[39;00m:\n\u001b[0;32m   3979\u001b[0m     \u001b[39m# set column\u001b[39;00m\n\u001b[1;32m-> 3980\u001b[0m     \u001b[39mself\u001b[39;49m\u001b[39m.\u001b[39;49m_set_item(key, value)\n",
      "File \u001b[1;32mc:\\Users\\anony\\Anaconda\\lib\\site-packages\\pandas\\core\\frame.py:4174\u001b[0m, in \u001b[0;36mDataFrame._set_item\u001b[1;34m(self, key, value)\u001b[0m\n\u001b[0;32m   4164\u001b[0m \u001b[39mdef\u001b[39;00m \u001b[39m_set_item\u001b[39m(\u001b[39mself\u001b[39m, key, value) \u001b[39m-\u001b[39m\u001b[39m>\u001b[39m \u001b[39mNone\u001b[39;00m:\n\u001b[0;32m   4165\u001b[0m     \u001b[39m\"\"\"\u001b[39;00m\n\u001b[0;32m   4166\u001b[0m \u001b[39m    Add series to DataFrame in specified column.\u001b[39;00m\n\u001b[0;32m   4167\u001b[0m \n\u001b[1;32m   (...)\u001b[0m\n\u001b[0;32m   4172\u001b[0m \u001b[39m    ensure homogeneity.\u001b[39;00m\n\u001b[0;32m   4173\u001b[0m \u001b[39m    \"\"\"\u001b[39;00m\n\u001b[1;32m-> 4174\u001b[0m     value \u001b[39m=\u001b[39m \u001b[39mself\u001b[39;49m\u001b[39m.\u001b[39;49m_sanitize_column(value)\n\u001b[0;32m   4176\u001b[0m     \u001b[39mif\u001b[39;00m (\n\u001b[0;32m   4177\u001b[0m         key \u001b[39min\u001b[39;00m \u001b[39mself\u001b[39m\u001b[39m.\u001b[39mcolumns\n\u001b[0;32m   4178\u001b[0m         \u001b[39mand\u001b[39;00m value\u001b[39m.\u001b[39mndim \u001b[39m==\u001b[39m \u001b[39m1\u001b[39m\n\u001b[0;32m   4179\u001b[0m         \u001b[39mand\u001b[39;00m \u001b[39mnot\u001b[39;00m is_extension_array_dtype(value)\n\u001b[0;32m   4180\u001b[0m     ):\n\u001b[0;32m   4181\u001b[0m         \u001b[39m# broadcast across multiple columns if necessary\u001b[39;00m\n\u001b[0;32m   4182\u001b[0m         \u001b[39mif\u001b[39;00m \u001b[39mnot\u001b[39;00m \u001b[39mself\u001b[39m\u001b[39m.\u001b[39mcolumns\u001b[39m.\u001b[39mis_unique \u001b[39mor\u001b[39;00m \u001b[39misinstance\u001b[39m(\u001b[39mself\u001b[39m\u001b[39m.\u001b[39mcolumns, MultiIndex):\n",
      "File \u001b[1;32mc:\\Users\\anony\\Anaconda\\lib\\site-packages\\pandas\\core\\frame.py:4915\u001b[0m, in \u001b[0;36mDataFrame._sanitize_column\u001b[1;34m(self, value)\u001b[0m\n\u001b[0;32m   4912\u001b[0m     \u001b[39mreturn\u001b[39;00m _reindex_for_setitem(Series(value), \u001b[39mself\u001b[39m\u001b[39m.\u001b[39mindex)\n\u001b[0;32m   4914\u001b[0m \u001b[39mif\u001b[39;00m is_list_like(value):\n\u001b[1;32m-> 4915\u001b[0m     com\u001b[39m.\u001b[39;49mrequire_length_match(value, \u001b[39mself\u001b[39;49m\u001b[39m.\u001b[39;49mindex)\n\u001b[0;32m   4916\u001b[0m \u001b[39mreturn\u001b[39;00m sanitize_array(value, \u001b[39mself\u001b[39m\u001b[39m.\u001b[39mindex, copy\u001b[39m=\u001b[39m\u001b[39mTrue\u001b[39;00m, allow_2d\u001b[39m=\u001b[39m\u001b[39mTrue\u001b[39;00m)\n",
      "File \u001b[1;32mc:\\Users\\anony\\Anaconda\\lib\\site-packages\\pandas\\core\\common.py:571\u001b[0m, in \u001b[0;36mrequire_length_match\u001b[1;34m(data, index)\u001b[0m\n\u001b[0;32m    567\u001b[0m \u001b[39m\"\"\"\u001b[39;00m\n\u001b[0;32m    568\u001b[0m \u001b[39mCheck the length of data matches the length of the index.\u001b[39;00m\n\u001b[0;32m    569\u001b[0m \u001b[39m\"\"\"\u001b[39;00m\n\u001b[0;32m    570\u001b[0m \u001b[39mif\u001b[39;00m \u001b[39mlen\u001b[39m(data) \u001b[39m!=\u001b[39m \u001b[39mlen\u001b[39m(index):\n\u001b[1;32m--> 571\u001b[0m     \u001b[39mraise\u001b[39;00m \u001b[39mValueError\u001b[39;00m(\n\u001b[0;32m    572\u001b[0m         \u001b[39m\"\u001b[39m\u001b[39mLength of values \u001b[39m\u001b[39m\"\u001b[39m\n\u001b[0;32m    573\u001b[0m         \u001b[39mf\u001b[39m\u001b[39m\"\u001b[39m\u001b[39m(\u001b[39m\u001b[39m{\u001b[39;00m\u001b[39mlen\u001b[39m(data)\u001b[39m}\u001b[39;00m\u001b[39m) \u001b[39m\u001b[39m\"\u001b[39m\n\u001b[0;32m    574\u001b[0m         \u001b[39m\"\u001b[39m\u001b[39mdoes not match length of index \u001b[39m\u001b[39m\"\u001b[39m\n\u001b[0;32m    575\u001b[0m         \u001b[39mf\u001b[39m\u001b[39m\"\u001b[39m\u001b[39m(\u001b[39m\u001b[39m{\u001b[39;00m\u001b[39mlen\u001b[39m(index)\u001b[39m}\u001b[39;00m\u001b[39m)\u001b[39m\u001b[39m\"\u001b[39m\n\u001b[0;32m    576\u001b[0m     )\n",
      "\u001b[1;31mValueError\u001b[0m: Length of values (50) does not match length of index (5)"
     ]
    }
   ],
   "source": [
    "data = pd.DataFrame(columns = ['Condition','Response','Correct_Response','Result']) #create an empty data frame with three columns with column labels given\n",
    "data['Condition'] = condition_order #place condition_order in the 'Condition' column\n",
    "data['note_difference'] = difference\n",
    "data['Response'] = trial_response #place trial_response in the 'Response' column\n",
    "data['Correct_Response'] = correct_response\n",
    "data['Result'] = trial_result"
   ]
  },
  {
   "cell_type": "code",
   "execution_count": 17,
   "id": "2f67e53d-408a-4ad7-baf2-df2bb7e21d98",
   "metadata": {},
   "outputs": [],
   "source": [
    "data.to_csv(filename) #write it out to a csv file "
   ]
  },
  {
   "cell_type": "code",
   "execution_count": null,
   "id": "7450192c-8830-4db2-9792-1d074abfe64b",
   "metadata": {},
   "outputs": [],
   "source": []
  },
  {
   "attachments": {},
   "cell_type": "markdown",
   "id": "163eba83",
   "metadata": {},
   "source": [
    "Training Trial"
   ]
  },
  {
   "cell_type": "code",
   "execution_count": null,
   "id": "94823e3f",
   "metadata": {},
   "outputs": [],
   "source": []
  },
  {
   "attachments": {},
   "cell_type": "markdown",
   "id": "3598eb08",
   "metadata": {},
   "source": [
    "Graphs"
   ]
  },
  {
   "cell_type": "code",
   "execution_count": 6,
   "id": "7a5cb124",
   "metadata": {},
   "outputs": [
    {
     "data": {
      "image/png": "[encoded data removed]",
      "text/plain": [
       "<Figure size 640x480 with 1 Axes>"
      ]
     },
     "metadata": {},
     "output_type": "display_data"
    }
   ],
   "source": [
    "fig = plt.figure()\n",
    "ax = fig.add_axes([0,0,1,1])\n",
    "ax.set_xlabel('Trial Number',fontsize = 16)\n",
    "ax.set_ylabel('Frequency Difference',fontsize = 16)\n",
    "plt.show()\n",
    "#the trials would come first in dashed form, and then continue with the color for the specific df"
   ]
  },
  {
   "cell_type": "code",
   "execution_count": 54,
   "id": "d03cfbc5",
   "metadata": {},
   "outputs": [
    {
     "name": "stdout",
     "output_type": "stream",
     "text": [
      "440\n",
      "440.00044\n"
     ]
    }
   ],
   "source": [
    "#df*=np.sqrt(2) #this becomes larger since it was a wrong answer\n",
    "#fB = fA + df\n",
    "#trial_result[j] = 'wrong'\n",
    "#difference[j] = df\n",
    "\n",
    "#df = 0.1*fA\n",
    "#df/=100000\n",
    "#fB = fA + df\n",
    "#consecutive_correct = 0\n",
    "\n",
    "#print(fA)\n",
    "#print(fB)\n",
    "#B_note = make_tone(fB,duration)\n",
    "#play_sound(B_note,volume = volume)\n",
    "#play_sound(A_note,volume = volume)\n"
   ]
  },
  {
   "cell_type": "code",
   "execution_count": null,
   "id": "2d3c769e",
   "metadata": {},
   "outputs": [],
   "source": []
  }
 ],
 "metadata": {
  "kernelspec": {
   "display_name": "Python 3 (ipykernel)",
   "language": "python",
   "name": "python3"
  },
  "language_info": {
   "codemirror_mode": {
    "name": "ipython",
    "version": 3
   },
   "file_extension": ".py",
   "mimetype": "text/x-python",
   "name": "python",
   "nbconvert_exporter": "python",
   "pygments_lexer": "ipython3",
   "version": "3.10.9"
  }
 },
 "nbformat": 4,
 "nbformat_minor": 5
}
