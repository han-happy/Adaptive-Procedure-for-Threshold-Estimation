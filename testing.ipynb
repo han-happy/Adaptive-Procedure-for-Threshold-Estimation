{
 "cells": [
  {
   "cell_type": "code",
   "execution_count": null,
   "metadata": {},
   "outputs": [],
   "source": [
    "#subj 2 freq 440\n",
    "subj_02_440_train = pd.read_csv('training4402.csv')\n",
    "subj_02_440_experiment= pd.read_csv('Experiment Data 4402.csv')\n",
    "subj_02_440 = pd.concat([subj_02_440_train,subj_02_440_experiment],axis=0)\n",
    "subj_02_440['Trial Numbers']=np.arange(0,55,1)\n",
    "#subj_02_440['Result'] = subj_02_440['Result'].replace({'wrong':0})\n",
    "#subj_02_440['Result'] = subj_02_440['Result'].replace({'correct':1})\n",
    "\n",
    "\n",
    "#subj 2 freq 880\n",
    "subj_02_880_train = pd.read_csv('training8802.csv')\n",
    "subj_02_880_experiment= pd.read_csv('Experiment Data 8802.csv')\n",
    "subj_02_880 = pd.concat([subj_02_880_train,subj_02_880_experiment],axis=0)\n",
    "subj_02_880['Trial Numbers']=np.arange(0,55,1)\n",
    "#subj_02_880['Result'] = subj_02_880['Result'].replace({'wrong':0})\n",
    "#subj_02_880['Result'] = subj_02_880['Result'].replace({'correct':1})\n",
    "\n",
    "\n",
    "#subj 2 freq 1760\n",
    "subj_02_1760_train = pd.read_csv('training17602.csv')\n",
    "subj_02_1760_experiment= pd.read_csv('Experiment Data 17602.csv')\n",
    "subj_02_1760 = pd.concat([subj_02_1760_train,subj_02_1760_experiment],axis=0)\n",
    "subj_02_1760['Trial Numbers']=np.arange(0,55,1)\n",
    "#subj_02_1760['Result'] = subj_02_1760['Result'].replace({'wrong':0})\n",
    "#subj_02_1760['Result'] = subj_02_1760['Result'].replace({'correct':1})\n",
    "\n",
    "\n"
   ]
  },
  {
   "attachments": {},
   "cell_type": "markdown",
   "metadata": {},
   "source": [
    "Cutting off all the empty data"
   ]
  },
  {
   "cell_type": "code",
   "execution_count": null,
   "metadata": {},
   "outputs": [],
   "source": [
    "def locate_second_wrong(data_table,key_column):\n",
    "    count_wrong = 0\n",
    "    for index, value in enumerate (data_table[key_column]):\n",
    "        if value == 'wrong':\n",
    "            count_wrong += 1\n",
    "            if count_wrong ==2:\n",
    "                return index\n",
    "\n",
    "def locate_last_wrong(data_table,key_column):\n",
    "    count_wrong = 0\n",
    "    for index, value in enumerate (data_table[key_column]):\n",
    "        if value == 'wrong':\n",
    "            count_wrong += 1\n",
    "            if count_wrong ==4:\n",
    "                return index"
   ]
  },
  {
   "cell_type": "code",
   "execution_count": null,
   "metadata": {},
   "outputs": [],
   "source": [
    "cut_subj_02_440 = subj_02_440[:locate_last_wrong(subj_02_440,'Result') +1]\n",
    "cut_subj_02_880 = subj_02_880[:locate_last_wrong(subj_02_880,'Result') +1]\n",
    "cut_subj_02_1760 = subj_02_1760[:locate_last_wrong(subj_02_1760,'Result') +1]"
   ]
  },
  {
   "cell_type": "code",
   "execution_count": null,
   "metadata": {},
   "outputs": [],
   "source": [
    "#subj_02_440\n",
    "\n",
    "#x = trial numbers\n",
    "#y = differnece\n",
    "#different labels for the right and wrongs\n",
    "# replace correct = 1 , and wrong = 0\n",
    "# replace all empty cells with NaN\n",
    "\n",
    "# y = subj_02_440('Note_difference')\n",
    "# x = subj_02_440('Trial Number')\n",
    "\n",
    "#subj_02_440['Result'] = subj_02_440['Result'].replace({0:np.nan})\n",
    "#print(subj_02_440)\n",
    "\n",
    "#cut_subj_02_440"
   ]
  },
  {
   "attachments": {},
   "cell_type": "markdown",
   "metadata": {},
   "source": [
    "making the x and y for each frequencies"
   ]
  },
  {
   "cell_type": "code",
   "execution_count": null,
   "metadata": {},
   "outputs": [],
   "source": [
    "np.array(cut_subj_02_440)\n",
    "x_s2_440 = cut_subj_02_440['Trial Numbers']\n",
    "y_s2_440 = cut_subj_02_440['note_difference']\n",
    "\n",
    "np.array(cut_subj_02_880)\n",
    "x_s2_880 = cut_subj_02_880['Trial Numbers']\n",
    "y_s2_880 = cut_subj_02_880['note_difference']\n",
    "\n",
    "np.array(cut_subj_02_1760)\n",
    "x_s2_1760 = cut_subj_02_1760['Trial Numbers']\n",
    "y_s2_1760 = cut_subj_02_1760['note_difference']\n"
   ]
  },
  {
   "cell_type": "code",
   "execution_count": null,
   "metadata": {},
   "outputs": [],
   "source": [
    "result = cut_subj_02_440['Result']\n",
    "correct_trials = result == 'correct'\n",
    "incorrect_trials = result == 'wrong'"
   ]
  },
  {
   "cell_type": "code",
   "execution_count": null,
   "metadata": {},
   "outputs": [],
   "source": [
    "fig = plt.figure(figsize=(8,5))\n",
    "ax = fig.add_axes([0,0,1,1])\n",
    "ax.plot(x_s2_440[:6],y_s2_440[:6],'r--',label = '440 training')\n",
    "ax.plot(x_s2_880[:6],y_s2_880[:6],'g--',label = '880 training')\n",
    "ax.plot(x_s2_1760[:6],y_s2_1760[:6],'b--',label = '1760 training')\n",
    "ax.plot(x_s2_440[5:],y_s2_440[5:],'r-',label = '440 experiment')\n",
    "ax.plot(x_s2_880[5:],y_s2_880[5:],'g-',label = '880 experiment')\n",
    "ax.plot(x_s2_1760[5:],y_s2_1760[5:],'b-',label = '1760 experiment')\n",
    "\n",
    "\n",
    "ax.plot(x_s2_440[correct_trials],y_s2_440[correct_trials],'ro',label = '440 correct')\n",
    "ax.plot(x_s2_440[incorrect_trials],y_s2_440[incorrect_trials],'rx',label = '440 incorrect')\n",
    "#ax.plot(x,y_pos,'go',label = 'correct') \n",
    "#ax.plot(x,y_neg,'bo',label = 'wrong') \n",
    "#repeat 3 times for 3 frequences (6 more graphs for the dots)\n",
    "\n",
    "ax.legend()\n",
    "ax.set_xlabel('Trial Number',fontsize = 16)\n",
    "ax.set_ylabel('Frequency Difference',fontsize = 16)\n",
    "plt.show()\n"
   ]
  },
  {
   "cell_type": "code",
   "execution_count": null,
   "metadata": {},
   "outputs": [],
   "source": [
    "result = cut_subj_02_440['Result']\n",
    "correct_trials = result == 'correct'\n",
    "incorrect_trails = result == 'wrong'"
   ]
  },
  {
   "cell_type": "code",
   "execution_count": null,
   "metadata": {},
   "outputs": [],
   "source": [
    "correct_trials\n"
   ]
  },
  {
   "attachments": {},
   "cell_type": "markdown",
   "metadata": {},
   "source": [
    "how to graph the right and wrong"
   ]
  },
  {
   "cell_type": "code",
   "execution_count": null,
   "metadata": {},
   "outputs": [],
   "source": [
    "fig = plt.figure(figsize=(8,5))\n",
    "ax = fig.add_axes([0,0,1,1])\n",
    "\n",
    "result = cut_subj_02_440['Result']\n",
    "for xi,yi, resulti in zip(x_s2_440,y_s2_440,result):\n",
    "    if resulti == 'wrong':\n",
    "        marker = 'x'\n",
    "    elif resulti == 'correct':\n",
    "        marker = 'o'\n",
    "    ax.plot(xi,yi,marker=marker,color='r') \n",
    "\n",
    "result = cut_subj_02_880['Result']\n",
    "for xi,yi, resulti in zip(x_s2_880,y_s2_880,result):\n",
    "    if resulti == 'wrong':\n",
    "        marker = 'x'\n",
    "    elif resulti == 'correct':\n",
    "        marker = 'o'\n",
    "    ax.plot(xi,yi,marker=marker,color='g') \n",
    "\n",
    "result = cut_subj_02_1760['Result']\n",
    "for xi,yi, resulti in zip(x_s2_1760,y_s2_1760,result):\n",
    "    if resulti == 'wrong':\n",
    "        marker = 'x'\n",
    "    elif resulti == 'correct':\n",
    "        marker = 'o'\n",
    "    ax.plot(xi,yi,marker=marker,color='b') \n",
    "\n",
    "ax.plot(x_s2_440[:6],y_s2_440[:6],'r--',label = '440 training')\n",
    "ax.plot(x_s2_880[:6],y_s2_880[:6],'g--',label = '880 training')\n",
    "ax.plot(x_s2_1760[:6],y_s2_1760[:6],'b--',label = '1760 training')\n",
    "ax.plot(x_s2_440[5:],y_s2_440[5:],'r-',label = '440 experiment')\n",
    "ax.plot(x_s2_880[5:],y_s2_880[5:],'g-',label = '880 experiment')\n",
    "ax.plot(x_s2_1760[5:],y_s2_1760[5:],'b-',label = '1760 experiment')\n",
    "\n",
    "# Create the legend handles and labels\n",
    "correct_patch = mpatches.Patch(label='O: Correct')\n",
    "wrong_patch = mpatches.Patch(label='X: Wrong')\n",
    "\n",
    "# Create the legend using the handles and labels\n",
    "ax.legend(handles=[correct_patch, wrong_patch])\n",
    "\n",
    "#ax.legend()\n",
    "ax.set_xlabel('Trial Number',fontsize = 16)\n",
    "ax.set_ylabel('Frequency Difference',fontsize = 16)\n",
    "plt.show()\n",
    "\n",
    "#ax.plot(xi,yi,marker=marker,label = '440 training') \n"
   ]
  },
  {
   "cell_type": "code",
   "execution_count": null,
   "metadata": {},
   "outputs": [],
   "source": []
  },
  {
   "attachments": {},
   "cell_type": "markdown",
   "metadata": {},
   "source": [
    "### re-writing the graph\n",
    "\n",
    "hopefully to write a function so we don't have to hard code so much shit for EVERY SINGLE FREQUENCY PER PERSON\n",
    "\n",
    "as you can see , i'm slowly going insane"
   ]
  },
  {
   "cell_type": "code",
   "execution_count": null,
   "metadata": {},
   "outputs": [],
   "source": []
  },
  {
   "cell_type": "code",
   "execution_count": null,
   "metadata": {},
   "outputs": [],
   "source": []
  },
  {
   "cell_type": "code",
   "execution_count": null,
   "metadata": {},
   "outputs": [],
   "source": []
  },
  {
   "cell_type": "code",
   "execution_count": null,
   "metadata": {},
   "outputs": [],
   "source": []
  },
  {
   "cell_type": "code",
   "execution_count": null,
   "metadata": {},
   "outputs": [],
   "source": [
    "result = cut_subj_02_440['Result']\n",
    "for x_s2_440i,y_s2_440i, resulti in zip(x_s2_440,y_s2_440,result):\n",
    "    if resulti == 'wrong':\n",
    "        marker = 'x'\n",
    "    elif resulti == 'correct':\n",
    "        marker = 'o'\n",
    "\n",
    "fig = plt.figure(figsize=(4,3))\n",
    "ax = fig.add_axes([0,0,1,1])\n",
    "ax.plot(x_s2_440i,y_s2_440i,marker=marker,label = '440 training') \n",
    "\n",
    "#ax.plot(x,y_pos,'go',label = 'correct') \n",
    "#ax.plot(x,y_neg,'bo',label = 'wrong') \n",
    "#repeat 3 times for 3 frequences (6 more graphs for the dots)\n",
    "\n",
    "# loop, check each point\n",
    "# if subj_02_440['results']==1, \n",
    "# show point plot as 'o' \n",
    "# else subj_02_440['results']==0, \n",
    "# show point plot as 'x'\n",
    "\n",
    "ax.legend()\n",
    "ax.set_xlabel('Trial Number',fontsize = 16)\n",
    "ax.set_ylabel('Frequency Difference',fontsize = 16)\n",
    "plt.show()\n"
   ]
  },
  {
   "cell_type": "code",
   "execution_count": null,
   "metadata": {},
   "outputs": [],
   "source": [
    "import numpy as np\n",
    "from numpy import random \n",
    "import pandas as pd\n",
    "import simpleaudio as sa\n",
    "from matplotlib import pyplot as plt"
   ]
  },
  {
   "cell_type": "code",
   "execution_count": null,
   "metadata": {},
   "outputs": [],
   "source": []
  },
  {
   "attachments": {},
   "cell_type": "markdown",
   "metadata": {},
   "source": [
    "# Visuals go brr"
   ]
  },
  {
   "attachments": {},
   "cell_type": "markdown",
   "metadata": {},
   "source": [
    "reading CSV file\n",
    "\n",
    "combining training and experiment\n",
    "\n",
    "changing \"wrong\" = 0 and \"right\" = 1"
   ]
  },
  {
   "attachments": {},
   "cell_type": "markdown",
   "metadata": {},
   "source": [
    "### making the bar graph "
   ]
  },
  {
   "attachments": {},
   "cell_type": "markdown",
   "metadata": {},
   "source": [
    "thought process:\n",
    "\n",
    "* option 1\n",
    "    * manually find the 2nd - 4th wrong in the data\n",
    "    * find the mean, then graph each mean\n",
    "* option 2\n",
    "    * use code so to can find the 2nd to 4th error in the data for is\n",
    "    * calculate the mean, then graph\n",
    "\n",
    "\n",
    "Best using option 2\n",
    "* write a function to find the 2nd-4th error in data, then return mean\n",
    "* run function for all 3 subjects and 3 frequences (9 total times)\n",
    "\n",
    "\n",
    "chatgpt brain storm\n",
    "\n",
    "* make variable for # error\n",
    "* get index of where the error is (2nd to last error)\n",
    "* use index to find the df \n",
    "* add the df together and find the mean"
   ]
  },
  {
   "cell_type": "code",
   "execution_count": null,
   "metadata": {},
   "outputs": [],
   "source": [
    "#subj_02_440_experiment\n",
    "#subj_02_880_experiment\n",
    "#subj_02_1760_experiment\n",
    "\n"
   ]
  },
  {
   "cell_type": "code",
   "execution_count": null,
   "metadata": {},
   "outputs": [],
   "source": [
    "#subj_02_880\n",
    "\n",
    "\n",
    "# function(argument which might be the data ?)\n",
    "# find first error, ignore it\n",
    "# find second error, save all df from 2nd error until end\n",
    "# calculate mean by adding all df then dividing by # of df\n",
    "# return: mean\n",
    "\n",
    "\n",
    "\n",
    "\n"
   ]
  },
  {
   "cell_type": "code",
   "execution_count": null,
   "metadata": {},
   "outputs": [],
   "source": [
    "#subj_02_440_experiment\n"
   ]
  },
  {
   "cell_type": "code",
   "execution_count": null,
   "metadata": {},
   "outputs": [
    {
     "data": {
      "text/plain": [
       "1.5940552493319244"
      ]
     },
     "execution_count": 33,
     "metadata": {},
     "output_type": "execute_result"
    }
   ],
   "source": [
    "second_w = locate_second_wrong(subj_02_440_experiment,'Result')\n",
    "last_w = locate_last_wrong(subj_02_440_experiment,'Result')\n",
    "\n",
    "s2_440_df = subj_02_440_experiment['note_difference']\n",
    "np.mean(s2_440_df[second_w:last_w])\n"
   ]
  },
  {
   "attachments": {},
   "cell_type": "markdown",
   "metadata": {},
   "source": [
    "bar graph"
   ]
  },
  {
   "cell_type": "code",
   "execution_count": null,
   "metadata": {},
   "outputs": [],
   "source": [
    "def df_mean(data_frame):\n",
    "    second_w = locate_second_wrong(data_frame,'Result')\n",
    "    last_w = locate_last_wrong(data_frame,'Result')\n",
    "    df = data_frame['note_difference']\n",
    "    return np.mean(df[second_w:last_w])"
   ]
  },
  {
   "cell_type": "code",
   "execution_count": null,
   "metadata": {},
   "outputs": [],
   "source": [
    "s2_440_mean = df_mean(subj_02_440_experiment)\n",
    "s2_880_mean = df_mean(subj_02_880_experiment)\n",
    "s2_1760_mean = df_mean(subj_02_1760_experiment)\n",
    "s2_mean = [s2_440_mean,s2_880_mean,s2_1760_mean]\n"
   ]
  },
  {
   "cell_type": "code",
   "execution_count": null,
   "metadata": {},
   "outputs": [
    {
     "data": {
      "image/png": "[encoded data removed]",
      "text/plain": [
       "<Figure size 400x300 with 1 Axes>"
      ]
     },
     "metadata": {},
     "output_type": "display_data"
    }
   ],
   "source": [
    "freq_labels = ['440 Hz','880 Hz', '1760 Hz']\n",
    "\n",
    "fig = plt.figure(figsize = (4,3))\n",
    "ax = fig.add_axes([0,0,1,1])\n",
    "ax.set_xlabel('Frequency')\n",
    "ax.set_ylabel('Difference of Frequency (df)')\n",
    "ax.bar(freq_labels,s2_mean,color = 'pink')\n",
    "ax.set_title(\"Subject 2: Bin\")\n",
    "plt.show()"
   ]
  },
  {
   "attachments": {},
   "cell_type": "markdown",
   "metadata": {},
   "source": []
  }
 ],
 "metadata": {
  "kernelspec": {
   "display_name": "base",
   "language": "python",
   "name": "python3"
  },
  "language_info": {
   "codemirror_mode": {
    "name": "ipython",
    "version": 3
   },
   "file_extension": ".py",
   "mimetype": "text/x-python",
   "name": "python",
   "nbconvert_exporter": "python",
   "pygments_lexer": "ipython3",
   "version": "3.10.9"
  },
  "orig_nbformat": 4
 },
 "nbformat": 4,
 "nbformat_minor": 2
}
