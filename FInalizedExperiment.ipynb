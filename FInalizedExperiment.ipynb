{
 "cells": [
  {
   "attachments": {},
   "cell_type": "markdown",
   "id": "3598eb08",
   "metadata": {},
   "source": [
    "### 14P Final Project Experiment Code\n",
    "\n",
    "Team Name: Binbin Xu, Hanh (Happy) Han, Quiana Ma"
   ]
  },
  {
   "attachments": {},
   "cell_type": "markdown",
   "id": "b0fb84f0",
   "metadata": {},
   "source": [
    "Imports"
   ]
  },
  {
   "cell_type": "code",
   "execution_count": 2,
   "id": "9164ee3e",
   "metadata": {},
   "outputs": [],
   "source": [
    "import numpy as np\n",
    "from numpy import random \n",
    "import pandas as pd\n",
    "import simpleaudio as sa\n",
    "from matplotlib import pyplot as plt"
   ]
  },
  {
   "attachments": {},
   "cell_type": "markdown",
   "id": "f3176134",
   "metadata": {},
   "source": [
    "Functions"
   ]
  },
  {
   "cell_type": "code",
   "execution_count": 3,
   "id": "28ef3102",
   "metadata": {},
   "outputs": [],
   "source": [
    "def make_tone(f,duration,sr = 44100,ramp = 200):\n",
    "    time_vec = np.linspace(0, duration, int(duration*sr)) \n",
    "    tone = np.sin(f * time_vec  * 2 * np.pi)\n",
    "    risingramp = np.linspace(0,1,ramp)\n",
    "    descendingramp = np.linspace(1,0,ramp)\n",
    "    tone[0:ramp] = tone[0:ramp]*risingramp\n",
    "    tone[-ramp:] = tone[-ramp:]*descendingramp\n",
    "    return tone\n",
    "\n",
    "def play_sound(tone,volume = 0.5,sr = 44100):\n",
    "    tone  = tone*32768 / np.max(np.abs(tone)) \n",
    "    tone = volume*tone \n",
    "    tone  = tone.astype(np.int16) \n",
    "    play_obj = sa.play_buffer(tone , 1, 2, sr) \n",
    "    play_obj.wait_done()  "
   ]
  },
  {
   "attachments": {},
   "cell_type": "markdown",
   "id": "7dda26e0",
   "metadata": {},
   "source": [
    "### Training"
   ]
  },
  {
   "attachments": {},
   "cell_type": "markdown",
   "id": "51dd6ad0",
   "metadata": {},
   "source": [
    "Variables"
   ]
  },
  {
   "cell_type": "code",
   "execution_count": 4,
   "id": "7d93c9d3",
   "metadata": {},
   "outputs": [],
   "source": [
    "subjid = '4' \n",
    "ncond = 2 \n",
    "ntrials = 5\n",
    "fA = 1760 \n",
    "df = 0.1*fA\n",
    "fB = fA + df\n",
    "duration = 0.5 \n",
    "volume = 0.5\n",
    "silent_interval = 0.25 \n",
    "sr = 44100\n",
    "filename = 'training' + str(fA) + subjid + '.csv' "
   ]
  },
  {
   "cell_type": "code",
   "execution_count": 5,
   "id": "b19c1523",
   "metadata": {},
   "outputs": [],
   "source": [
    "rng = random.default_rng(seed = int(subjid))"
   ]
  },
  {
   "cell_type": "code",
   "execution_count": 6,
   "id": "d5ec86be",
   "metadata": {},
   "outputs": [],
   "source": [
    "A_note = make_tone(fA,duration)\n",
    "B_note = make_tone(fB,duration)\n",
    "silence = np.zeros(int(silent_interval*sr))"
   ]
  },
  {
   "attachments": {},
   "cell_type": "markdown",
   "id": "34f29e3b",
   "metadata": {},
   "source": [
    "Arrays for Tables"
   ]
  },
  {
   "cell_type": "code",
   "execution_count": 7,
   "id": "54d9f3af",
   "metadata": {},
   "outputs": [],
   "source": [
    "correct_response = np.zeros(ntrials,dtype = 'int') \n",
    "trial_response = np.array(np.zeros(ntrials),dtype = 'int') \n",
    "trial_result = np.array(np.zeros(ntrials),dtype = 'str')\n",
    "difference = np.array(np.zeros(ntrials),dtype = 'str')"
   ]
  },
  {
   "attachments": {},
   "cell_type": "markdown",
   "id": "62f27d33",
   "metadata": {},
   "source": [
    "Running the Training Trials"
   ]
  },
  {
   "cell_type": "code",
   "execution_count": 8,
   "id": "5c3d60ec",
   "metadata": {},
   "outputs": [
    {
     "name": "stdout",
     "output_type": "stream",
     "text": [
      "1\n",
      "1\n",
      "1\n",
      "1\n",
      "1\n",
      "Done!\n"
     ]
    }
   ],
   "source": [
    "condition_order = rng.integers(0,2,ntrials)\n",
    "for j in range(5):  \n",
    "    \n",
    "    if condition_order[j] == 0: \n",
    "        stimulus = np.concatenate((A_note,silence,B_note))\n",
    "        play_sound(stimulus,volume=volume)\n",
    "        correct_response[j] = 2\n",
    "    else:\n",
    "        stimulus = np.concatenate((B_note,silence,A_note))\n",
    "        play_sound(stimulus,volume=volume)\n",
    "        correct_response[j] = 1\n",
    "    response_check = False \n",
    "    while response_check == False:  \n",
    "        response = input('Is the first or 2nd note higher') \n",
    "        if (response =='1') | (response == '2'):  \n",
    "            response_check = True  \n",
    "            print(response) \n",
    "            trial_response[j] = response \n",
    "        else:\n",
    "            print('Invalid Response Try Again')\n",
    "    if trial_response[j] == correct_response[j]:\n",
    "            trial_result[j] = 'correct'\n",
    "            difference[j] = df\n",
    "    else:\n",
    "        trial_result[j] = 'wrong'\n",
    "        difference[j] = df\n",
    "\n",
    "print('Done!')"
   ]
  },
  {
   "attachments": {},
   "cell_type": "markdown",
   "id": "d15c37d1",
   "metadata": {},
   "source": [
    "Saving Data into CSV File with columns labeled"
   ]
  },
  {
   "cell_type": "code",
   "execution_count": 9,
   "id": "58b6a0ce",
   "metadata": {},
   "outputs": [],
   "source": [
    "data = pd.DataFrame(columns = ['Condition','Response','Correct_Response','Result'])\n",
    "data['Condition'] = condition_order \n",
    "data['note_difference'] = difference\n",
    "data['Response'] = trial_response\n",
    "data['Correct_Response'] = correct_response\n",
    "data['Result'] = trial_result"
   ]
  },
  {
   "cell_type": "code",
   "execution_count": 10,
   "id": "388b262f",
   "metadata": {},
   "outputs": [],
   "source": [
    "data.to_csv(filename)"
   ]
  },
  {
   "attachments": {},
   "cell_type": "markdown",
   "id": "f8012441",
   "metadata": {},
   "source": [
    "### EXPERIMENT\n"
   ]
  },
  {
   "attachments": {},
   "cell_type": "markdown",
   "id": "38bcc0e8",
   "metadata": {},
   "source": [
    "Variables "
   ]
  },
  {
   "cell_type": "code",
   "execution_count": 11,
   "id": "a1756123",
   "metadata": {},
   "outputs": [],
   "source": [
    "subjid = '4' \n",
    "ncond = 2 \n",
    "ntrials = 50\n",
    "fA = 1760\n",
    "df = 0.1*fA\n",
    "fB = fA + df\n",
    "duration = 0.5 \n",
    "volume = 0.5\n",
    "silent_interval = 0.25 \n",
    "sr = 44100\n",
    "filename = 'Experiment Data' + str(fA) + subjid + '.csv' "
   ]
  },
  {
   "cell_type": "code",
   "execution_count": 12,
   "id": "73fdfd35",
   "metadata": {},
   "outputs": [],
   "source": [
    "rng = random.default_rng(seed = int(subjid))"
   ]
  },
  {
   "cell_type": "code",
   "execution_count": 13,
   "id": "5557bd97",
   "metadata": {},
   "outputs": [],
   "source": [
    "A_note = make_tone(fA,duration)\n",
    "B_note = make_tone(fB,duration)\n",
    "silence = np.zeros(int(silent_interval*sr))"
   ]
  },
  {
   "attachments": {},
   "cell_type": "markdown",
   "id": "dcbdd9b9",
   "metadata": {},
   "source": [
    "Arrays for table"
   ]
  },
  {
   "cell_type": "code",
   "execution_count": 14,
   "id": "22a71e7b",
   "metadata": {},
   "outputs": [],
   "source": [
    "correct_response = np.zeros(ntrials,dtype = 'int') \n",
    "trial_response = np.array(np.zeros(ntrials),dtype = 'int') \n",
    "trial_result = np.array(np.zeros(ntrials),dtype = 'str')\n",
    "difference = np.array(np.zeros(ntrials),dtype = 'str')"
   ]
  },
  {
   "attachments": {},
   "cell_type": "markdown",
   "id": "00b61232",
   "metadata": {},
   "source": [
    "Running Experiment Trials"
   ]
  },
  {
   "cell_type": "code",
   "execution_count": 15,
   "id": "1ce873b3",
   "metadata": {},
   "outputs": [
    {
     "name": "stdout",
     "output_type": "stream",
     "text": [
      "1\n",
      "1\n",
      "1\n",
      "1\n",
      "1\n",
      "1\n",
      "1\n",
      "2\n",
      "2\n",
      "1\n",
      "2\n",
      "2\n",
      "1\n",
      "1\n",
      "1\n",
      "2\n",
      "1\n",
      "Invalid Response Try Again\n",
      "1\n",
      "2\n",
      "2\n",
      "1\n",
      "1\n",
      "2\n",
      "2\n",
      "1\n",
      "1\n",
      "2\n",
      "2\n",
      "Done!\n"
     ]
    }
   ],
   "source": [
    "total_error = 0\n",
    "consecutive_correct = 0\n",
    "\n",
    "condition_order = rng.integers(0,2,ntrials)\n",
    "for j in range(ntrials): \n",
    "    #is response 1 or 2 or invalid\n",
    "    if condition_order[j] == 0: \n",
    "        stimulus = np.concatenate((A_note,silence,B_note))\n",
    "        play_sound(stimulus,volume=volume)\n",
    "        correct_response[j] = 2\n",
    "    else:\n",
    "        stimulus = np.concatenate((B_note,silence,A_note))\n",
    "        play_sound(stimulus,volume=volume)\n",
    "        correct_response[j] = 1\n",
    "    response_check = False\n",
    "    while response_check == False: \n",
    "        response = input('Is the first or 2nd note higher')\n",
    "        if (response =='1') | (response == '2'): \n",
    "            response_check = True \n",
    "            print(response) \n",
    "            trial_response[j] = response \n",
    "        else:\n",
    "            print('Invalid Response Try Again')\n",
    "    #is subject response = correct response\n",
    "    if trial_response[j] == correct_response[j]:\n",
    "        consecutive_correct += 1\n",
    "        trial_result[j] = 'correct'\n",
    "        difference[j] = df\n",
    "    else:\n",
    "        total_error += 1\n",
    "        consecutive_correct = 0\n",
    "        difference[j] = df\n",
    "        df*=np.sqrt(2) \n",
    "        fB = fA + df\n",
    "        trial_result[j] = 'wrong'\n",
    "    if consecutive_correct == 2:\n",
    "        df/=np.sqrt(2)\n",
    "        fB = fA + df\n",
    "        consecutive_correct = 0     \n",
    "    if total_error>3:\n",
    "        break #break --> force end for loop\n",
    "    B_note = make_tone(fB,duration)\n",
    "    \n",
    "\n",
    "print('Done!')"
   ]
  },
  {
   "attachments": {},
   "cell_type": "markdown",
   "id": "be71a809",
   "metadata": {},
   "source": [
    "Saving Data into CSV"
   ]
  },
  {
   "cell_type": "code",
   "execution_count": 16,
   "id": "253f6cbf",
   "metadata": {},
   "outputs": [],
   "source": [
    "data = pd.DataFrame(columns = ['Condition','Response','Correct_Response','Result']) \n",
    "data['Condition'] = condition_order \n",
    "data['note_difference'] = difference\n",
    "data['Response'] = trial_response \n",
    "data['Correct_Response'] = correct_response\n",
    "data['Result'] = trial_result"
   ]
  },
  {
   "cell_type": "code",
   "execution_count": 17,
   "id": "72eaea50",
   "metadata": {},
   "outputs": [],
   "source": [
    "data.to_csv(filename)"
   ]
  },
  {
   "attachments": {},
   "cell_type": "markdown",
   "id": "436ee2b8",
   "metadata": {},
   "source": [
    "Note: When we ran the experiment for each member, we manually changed the subject ID and the frequency."
   ]
  }
 ],
 "metadata": {
  "kernelspec": {
   "display_name": "Python 3 (ipykernel)",
   "language": "python",
   "name": "python3"
  },
  "language_info": {
   "codemirror_mode": {
    "name": "ipython",
    "version": 3
   },
   "file_extension": ".py",
   "mimetype": "text/x-python",
   "name": "python",
   "nbconvert_exporter": "python",
   "pygments_lexer": "ipython3",
   "version": "3.10.9"
  }
 },
 "nbformat": 4,
 "nbformat_minor": 5
}
